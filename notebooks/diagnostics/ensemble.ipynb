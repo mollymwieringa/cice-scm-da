{
 "cells": [
  {
   "cell_type": "code",
   "execution_count": 1,
   "metadata": {},
   "outputs": [],
   "source": [
    "import xarray as xr\n",
    "import matplotlib.pyplot as plt\n",
    "import numpy as np\n",
    "import glob"
   ]
  },
  {
   "cell_type": "code",
   "execution_count": 2,
   "metadata": {},
   "outputs": [],
   "source": [
    "def get_rank(obs_ds, ensemble_ds):\n",
    "\n",
    "    # The rank histogram is a distribution of observation rank within the ensemble\n",
    "    # so to caculate it we need to know the rank of each observation at each time\n",
    "    # step. We can do this by sorting the ensemble values at each time step and\n",
    "    # then finding the index of the observation value within the sorted ensemble\n",
    "    # values. This index should then be saved to a list.\n",
    "\n",
    "    # First we need to parse the observation file to separate each of the observation\n",
    "    # types into their own data set. This will make it easier to work with the data. \n",
    "\n",
    "    obs_parsed = parse_obs_netcdf(obs_ds) # this is a list of data sets \n",
    "\n",
    "    # Now we need to loop through each of the observation types and calculate the rank.\n",
    "\n",
    "    name_pairs = {'SAT_SEAICE_AGREG_CONCENTR':'aice', 'SAT_SEAICE_AGREG_THICKNESS':'hi', \n",
    "                  'SAT_SEAICE_AICE01':'aice1',  'SAT_SEAICE_AICE02':'aice2',\n",
    "                  'SAT_SEAICE_AICE03':'aice3',  'SAT_SEAICE_AICE04':'aice4',\n",
    "                  'SAT_SEAICE_AICE05':'aice5',  'SAT_SEAICE_AGREG_FREEBOARD':'fb'} \n",
    "\n",
    "    OBS_RANKS = []\n",
    "    for name in obs_parsed.obs_name:\n",
    "        var = name_pairs[name.item()]\n",
    "        count = 0\n",
    "        RANK = []\n",
    "        for i in ds.time:\n",
    "            members = ds[var].sel({'time':i}).values.tolist()\n",
    "\n",
    "            obs = obs_parsed.sel({'obs_name': name.item()})[count].values.item()\n",
    "\n",
    "            members.append(obs)\n",
    "            sorted_members = sorted(members)\n",
    "\n",
    "            obs_rank = sorted_members.index(obs) + 1\n",
    "            RANK.append(obs_rank)\n",
    "            count += 1\n",
    "        \n",
    "        rank = xr.DataArray(RANK, dims={'time'}, coords={'time':ds.time, 'obs_name':name})\n",
    "        OBS_RANKS.append(rank)\n",
    "\n",
    "    ranks = xr.concat(OBS_RANKS, dim = 'obs_name')\n",
    "\n",
    "    return ranks\n",
    "\n",
    "\n",
    "def parse_obs_netcdf(obs_ds):\n",
    "\n",
    "    OBS = []\n",
    "    for ob_ind in list(np.unique(obs_ds.obs_type)):\n",
    "        t = obs_ds.where(obs_ds.obs_type == ob_ind, drop=True)\n",
    "\n",
    "        obs = t.observations.sel({'copy':1}).drop('ObsIndex')\n",
    "\n",
    "        # get the observation type name\n",
    "        name = obs_ds.ObsTypesMetaData.where(obs_ds.ObsTypes == ob_ind, drop=True).values[0]\n",
    "        obs['obs_name'] = name.strip().decode('utf-8')\n",
    "\n",
    "        OBS.append(obs)\n",
    "    \n",
    "    obs_ds = xr.concat(OBS, dim='obs_name')\n",
    "\n",
    "    return obs_ds\n",
    "\n",
    "\n",
    "def freeboard_operator(ds):\n",
    "\n",
    "    # calculate freeboard from the ice thickness and the snow depth\n",
    "\n",
    "    ice_dens = 917.0\n",
    "    snow_dens = 330.0\n",
    "    water_dens = 1026.0\n",
    "\n",
    "    ice_volume = ds.vice\n",
    "    snow_volume = ds.vsnon.sum(dim='ncat')\n",
    "\n",
    "    fb_volume = ice_volume * (1-ice_dens/water_dens) - snow_volume * snow_dens/water_dens\n",
    "\n",
    "    fb = fb_volume / ds.aice \n",
    "\n",
    "    ds['fb'] = fb\n",
    "\n",
    "    return ds"
   ]
  },
  {
   "cell_type": "code",
   "execution_count": 3,
   "metadata": {},
   "outputs": [],
   "source": [
    "case = 'free_SHEBA'\n",
    "files = sorted(glob.glob('/glade/scratch/mollyw/ICEPACK_RUNS/'+case+'/mem*/history/*.nc'))\n",
    "\n",
    "DS = []\n",
    "for file in files:\n",
    "    dds = xr.open_dataset(file)\n",
    "    DS.append(dds.sel(time=slice('2011-01-02','2011-12-31')).isel({'ni':2})[['vice','aice','vicen','aicen','vsnon']])\n",
    "ds = xr.concat(DS, dim='ensemble_member')\n",
    "ds = ds.resample(time='1D').mean()\n",
    "\n",
    "ds['hi'] = ds.vice/ds.aice\n",
    "ds = freeboard_operator(ds)\n"
   ]
  },
  {
   "cell_type": "code",
   "execution_count": 4,
   "metadata": {},
   "outputs": [],
   "source": [
    "obs = xr.open_dataset('/glade/u/home/mollyw/work/Projects/cice-scm-da/data/processed/synthetic_obs/free_test/netcdfs/aggregate_observations.nc')"
   ]
  },
  {
   "cell_type": "markdown",
   "metadata": {},
   "source": [
    "Calculate rank of the observation relative to each ensemble member"
   ]
  },
  {
   "cell_type": "code",
   "execution_count": 5,
   "metadata": {},
   "outputs": [],
   "source": [
    "ranks = get_rank(obs, ds)"
   ]
  },
  {
   "cell_type": "markdown",
   "metadata": {},
   "source": [
    "Plot the histograms by variable"
   ]
  },
  {
   "cell_type": "code",
   "execution_count": 6,
   "metadata": {},
   "outputs": [
    {
     "data": {
      "image/png": "[encoded data removed]",
      "text/plain": [
       "<Figure size 1000x400 with 3 Axes>"
      ]
     },
     "metadata": {},
     "output_type": "display_data"
    }
   ],
   "source": [
    "fig, axes = plt.subplots(ncols = 3, figsize=(10,4))\n",
    "\n",
    "count = 0\n",
    "var_colors = {'SAT_SEAICE_AGREG_FREEBOARD': 'olivedrab','SAT_SEAICE_AGREG_CONCENTR':'palevioletred', 'SAT_SEAICE_AGREG_THICKNESS':'teal',}\n",
    "for n in ranks.obs_name:\n",
    "    axes[count].hist(ranks.sel({'obs_name':n}), bins=15, density=True, \n",
    "                     color = var_colors[n.item()], alpha=0.5, edgecolor=var_colors[n.item()],\n",
    "                     linewidth=1.2)\n",
    "    axes[count].set_title(n.item()[17:], fontweight='bold', fontsize=12)\n",
    "    axes[count].set_xlabel('Rank', fontsize=12)\n",
    "    axes[count].set_ylabel('Frequency', fontsize=12)\n",
    "    axes[count].set_xlim(0.5,31.5)\n",
    "    axes[count].set_ylim(0,0.41)\n",
    "    axes[count].hlines(1/30, 0.5, 31.5, color='k', linestyle='--', label = '1/30 (ideal)')\n",
    "    count += 1\n",
    "\n",
    "axes[0].legend(loc='upper left', fontsize=12)\n",
    "plt.tight_layout()\n",
    "\n",
    "plt.savefig('figures/'+case+'_rank_histogram.png', dpi=300, bbox_inches='tight')"
   ]
  },
  {
   "cell_type": "markdown",
   "metadata": {},
   "source": [
    "Compare to an assimilated case"
   ]
  },
  {
   "cell_type": "markdown",
   "metadata": {},
   "source": []
  }
 ],
 "metadata": {
  "kernelspec": {
   "display_name": "c-icesat-2",
   "language": "python",
   "name": "python3"
  },
  "language_info": {
   "codemirror_mode": {
    "name": "ipython",
    "version": 3
   },
   "file_extension": ".py",
   "mimetype": "text/x-python",
   "name": "python",
   "nbconvert_exporter": "python",
   "pygments_lexer": "ipython3",
   "version": "3.11.4"
  },
  "orig_nbformat": 4
 },
 "nbformat": 4,
 "nbformat_minor": 2
}
